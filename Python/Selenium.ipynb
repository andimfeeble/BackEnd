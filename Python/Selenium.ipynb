{
 "cells": [
  {
   "cell_type": "code",
   "execution_count": 1,
   "source": [
    "from selenium import webdriver\n",
    "from selenium.webdriver.common.keys import Keys\n",
    "from time import sleep\n",
    "navegador = webdriver.Firefox()\n",
    "navegador.maximize_window()\n",
    "navegador.get('https://www.google.com.br')\n",
    "sleep(2)\n",
    "navegador.find_element_by_xpath('/html/body/div[1]/div[3]/form/div[1]/div[1]/div[1]/div/div[2]/input').send_keys(\"mocla.tech\" + Keys.ENTER)"
   ],
   "outputs": [],
   "metadata": {}
  },
  {
   "cell_type": "code",
   "execution_count": null,
   "source": [
    "from selenium import webdriver\n",
    "from selenium.webdriver.common.by import By\n",
    "from selenium.webdriver.common.keys import Keys\n",
    "from selenium.webdriver.support.ui import WebDriverWait\n",
    "from selenium.webdriver.support.expected_conditions import presence_of_element_located\n",
    "from time import sleep\n",
    "with webdriver.Chrome() as driver:\n",
    "    wait = WebDriverWait(driver, 10)\n",
    "    driver.get(\"https://google.com.br\")\n",
    "    driver.find_element(By.NAME, \"q\").send_keys(\"cheese\" + Keys.RETURN)\n",
    "    first_result = wait.until(presence_of_element_located((By.CSS_SELECTOR, \"h3\")))\n",
    "    sleep(10)\n",
    "    print(first_result.get_attribute(\"textContent\"))"
   ],
   "outputs": [],
   "metadata": {}
  }
 ],
 "metadata": {
  "orig_nbformat": 4,
  "language_info": {
   "name": "python",
   "version": "3.9.5",
   "mimetype": "text/x-python",
   "codemirror_mode": {
    "name": "ipython",
    "version": 3
   },
   "pygments_lexer": "ipython3",
   "nbconvert_exporter": "python",
   "file_extension": ".py"
  },
  "kernelspec": {
   "name": "python3",
   "display_name": "Python 3.9.5 64-bit"
  },
  "interpreter": {
   "hash": "e7370f93d1d0cde622a1f8e1c04877d8463912d04d973331ad4851f04de6915a"
  }
 },
 "nbformat": 4,
 "nbformat_minor": 2
}