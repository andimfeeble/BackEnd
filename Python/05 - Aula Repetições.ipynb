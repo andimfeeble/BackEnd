{
 "cells": [
  {
   "cell_type": "code",
   "execution_count": null,
   "metadata": {},
   "outputs": [],
   "source": [
    "for c in range(0, 5):\n",
    "    print('Repetição')\n",
    "print('Fim do teste 1\\n')\n",
    "\n",
    "for c in range(1, 6):\n",
    "    print(c)\n",
    "print('Fim do teste 2\\n')\n",
    "\n",
    "for c in range(5, 0, -1):\n",
    "    print(c)\n",
    "print('Fim do teste 3\\n')\n",
    "\n",
    "for c in range(1, 7, 2):\n",
    "    print(c)\n",
    "print('Fim do teste 4')\n"
   ]
  },
  {
   "cell_type": "code",
   "execution_count": null,
   "metadata": {},
   "outputs": [],
   "source": [
    "num = int(input('Digite um numero:'))\n",
    "for c in range(1, num+1):\n",
    "    print(c)\n",
    "print('Fim')\n"
   ]
  }
 ],
 "metadata": {
  "interpreter": {
   "hash": "767d51c1340bd893661ea55ea3124f6de3c7a262a8b4abca0554b478b1e2ff90"
  },
  "kernelspec": {
   "display_name": "Python 3.9.5 64-bit",
   "name": "python3"
  },
  "language_info": {
   "name": "python",
   "version": ""
  },
  "orig_nbformat": 4
 },
 "nbformat": 4,
 "nbformat_minor": 2
}