{
 "metadata": {
  "language_info": {
   "codemirror_mode": {
    "name": "ipython",
    "version": 3
   },
   "file_extension": ".py",
   "mimetype": "text/x-python",
   "name": "python",
   "nbconvert_exporter": "python",
   "pygments_lexer": "ipython3",
   "version": 3
  },
  "orig_nbformat": 4
 },
 "nbformat": 4,
 "nbformat_minor": 2,
 "cells": [
  {
   "cell_type": "code",
   "execution_count": null,
   "metadata": {},
   "outputs": [],
   "source": [
    "frase = 'Estou Estudando a Linguagem Python'\n",
    "frase2 = '  Estou Estudando Python   '\n",
    "str1 = frase[28:34]\n",
    "print(f'Fatiando a String frase da posição 28 a 34 é igual a = {str1}')\n",
    "str2 = len(frase)\n",
    "print(f'Essa frase possui {str2} posições')\n",
    "str3 = frase.count('o')\n",
    "print(f'Essa frase possui {str3} caracteres \"o\"')\n",
    "str4 = frase.find('Py')\n",
    "print(f'O trecho \"Py\" foi localizado iniciando na posição {str4}')\n",
    "str5 = 'Python' in frase\n",
    "print(f'Foi localizado o trecho \"Python\" na frase: {str5}')\n",
    "str6 = frase.replace('Linguagem Python', 'Framework Django')\n",
    "print(f'Subistituindo \"Linguagem Python\" por \"Framework Django\", a frase fica: {str6}')\n",
    "str7 = frase.upper()\n",
    "print(f'Frase maiuscula: {str7}')\n",
    "str8 = frase.lower()\n",
    "print(f'Frase minuscula: {str8}')\n",
    "str9 = frase.capitalize()\n",
    "print(f'Frase capitalizada: {str9}')\n",
    "str10 = frase.title()\n",
    "print(f'Palavras com a primeira letra mauiscula: {str10}')\n",
    "str11 = frase2.strip()\n",
    "print(f'Frase removendo espaços vazios no inicio e no final da frase: {str11}')\n",
    "str12 = frase2.rstrip()\n",
    "print(f'Frase removendo espaços vazios no final da frase: {str12}')\n",
    "str13 = frase2.lstrip()\n",
    "print(f'Frase removendo espaços vazios no inicio da frase: {str13}')\n",
    "str14 = frase.split()\n",
    "print(f'Frase Quebrada: {str14}')\n",
    "str15 = ''.join(str14)\n",
    "print(f'Frase Juntada: {str15}')"
   ]
  }
 ]
}