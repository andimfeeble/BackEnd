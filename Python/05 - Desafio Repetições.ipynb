{
 "cells": [
  {
   "cell_type": "code",
   "execution_count": null,
   "source": [
    "#Exercicio46\n",
    "from time import sleep\n",
    "for c in range(10, 0, -1):\n",
    "    print(c, end=(' '))\n",
    "    sleep(1)\n",
    "print('Fim da contagem!')"
   ],
   "outputs": [],
   "metadata": {}
  },
  {
   "cell_type": "code",
   "execution_count": null,
   "source": [
    "#Exercicio47\n",
    "from time import sleep\n",
    "for c in range(1, 51):\n",
    "    if c % 2 == 0:\n",
    "        print(c, end=(' '))\n",
    "        sleep(0.5)\n",
    "print('Fim da contagem')"
   ],
   "outputs": [],
   "metadata": {}
  },
  {
   "cell_type": "code",
   "execution_count": null,
   "source": [
    "#Exercicio48\n",
    "soma = 0\n",
    "cont = 0\n",
    "for c in range(1, 501):\n",
    "    if c % 3 == 0:\n",
    "        soma = soma + c\n",
    "        cont = cont + 1\n",
    "print(f'De 1 a 500 possui {cont} mutiplos de 3 e a soma dos mesmos é igual a {soma}')"
   ],
   "outputs": [],
   "metadata": {}
  },
  {
   "cell_type": "code",
   "execution_count": null,
   "source": [
    "#Exercicio49\n",
    "num = int(input('Digite um numero para a tabuada:'))\n",
    "print(f'TABUADA DE {num}')\n",
    "for c in range(1, 11):\n",
    "    print(f'{num} x {c} = {num * c}')"
   ],
   "outputs": [],
   "metadata": {}
  },
  {
   "cell_type": "code",
   "execution_count": null,
   "source": [
    "#Exercicio50\n",
    "cont = 0\n",
    "soma = 0\n",
    "for c in range(1, 7):\n",
    "    num = int(input(f'Digite o {c}º numero:'))\n",
    "    if num % 2 == 0:\n",
    "        cont = cont + 1\n",
    "        soma = soma + num\n",
    "if cont == 1:\n",
    "    print(f'Dos {c} numeros digitados {cont} é par, totalizando {soma}')\n",
    "else:\n",
    "    print(f'Dos {c} numeros digitados {cont} são pares, totalizando {soma}')"
   ],
   "outputs": [],
   "metadata": {}
  },
  {
   "cell_type": "code",
   "execution_count": null,
   "source": [
    "#Exercicio51\n",
    "primeiro = int(input('Digite o primeiro termo da progressão:'))\n",
    "razao = int(input('Digite a razão da progressão:'))\n",
    "decimo = primeiro + (11 - 1) * razao\n",
    "for c in range(primeiro, decimo, razao):\n",
    "    print(c, end = (' -> '))\n",
    "print('Acabou!!!')"
   ],
   "outputs": [],
   "metadata": {}
  },
  {
   "cell_type": "code",
   "execution_count": null,
   "source": [
    "#Exercicio52\n",
    "num = int(input('Digite um número:'))\n",
    "cont = 0\n",
    "for c in range(1, num + 1):\n",
    "    if num % c == 0:\n",
    "        cont = cont + 1\n",
    "        print(f'{c}', end = (' '))\n",
    "if cont == 2:\n",
    "    print(f'\\nO Número {num} é um número primo!')\n",
    "else:\n",
    "    print(f'\\nO número {num} não é um número primo!')"
   ],
   "outputs": [],
   "metadata": {}
  },
  {
   "cell_type": "code",
   "execution_count": null,
   "source": [
    "#Exercicio53\n",
    "frase = str(input('Digite a frase ou palavra que deseja verificar: ')).upper().strip().split()\n",
    "normal = ''.join(frase)\n",
    "invert = normal[::-1]\n",
    "print(f'O inverso de {normal} é {invert}, portanto,', end = (' '))\n",
    "if normal == invert:\n",
    "    print('esta frase ou palavra é um \"PALÍNDROMO\".')\n",
    "else:\n",
    "    print('esta frase ou palavra não é um \"PALÍNDROMO\".')"
   ],
   "outputs": [],
   "metadata": {}
  },
  {
   "cell_type": "code",
   "execution_count": null,
   "source": [
    "#Exercicio54\n",
    "from datetime import date\n",
    "maior = 0\n",
    "menor = 0\n",
    "for pessoa in range(1, 8):\n",
    "    ano_nasce = int(input(f'Digite o ano de nascimento da {pessoa}ª pessoa: '))\n",
    "    if date.today().year - ano_nasce >= 18:\n",
    "        maior = maior + 1\n",
    "    else:\n",
    "        menor = menor + 1\n",
    "print(f'Das {pessoa} pessoas informadas, {maior} são de maior idade e {menor} são de menor idade.')"
   ],
   "outputs": [],
   "metadata": {}
  },
  {
   "cell_type": "code",
   "execution_count": null,
   "source": [
    "#Exercicio55\n",
    "menor = 0\n",
    "maior = 0\n",
    "for pessoa in range(1, 6):\n",
    "    peso = float(input(f'Digite o peso da {pessoa}ª pessoa:'))\n",
    "    if pessoa == 1:\n",
    "        menor = peso\n",
    "        maior = peso\n",
    "    else:\n",
    "        if peso < menor:\n",
    "            menor = peso\n",
    "        if peso > maior:\n",
    "            maior = peso\n",
    "print(f'O menor peso digitado foi {menor:.1f} e o maior peso digitado foi {maior:.1f}')"
   ],
   "outputs": [],
   "metadata": {}
  },
  {
   "cell_type": "code",
   "execution_count": null,
   "source": [
    "#Exercicio56\n",
    "from time import sleep\n",
    "mulheres_menores = 0\n",
    "idade_media = 0\n",
    "idade_maior = 0\n",
    "nome_maior = ''\n",
    "for pessoa in range(1, 5):\n",
    "    print(f'---------- Cadastro da {pessoa}ª pessoa: ----------')\n",
    "    nome = str(input(f'Digite o nome da {pessoa}ª pessoa: ')).title()\n",
    "    idade = int(input(f'Digite a idade da {pessoa}ª pessoa: '))\n",
    "    sexo = str(input(f'Digite o sexo da {pessoa}ª pessoa: (F) ou (M): ')).upper()\n",
    "    idade_media = idade_media + idade\n",
    "    if sexo == 'F' or sexo == 'M':\n",
    "        print('Sexo informado corretamente.')\n",
    "        if sexo == 'F' and idade < 20:\n",
    "            mulheres_menores = mulheres_menores + 1\n",
    "        if pessoa == 1:\n",
    "            idade_maior = idade\n",
    "            nome_maior = nome\n",
    "            if idade_maior < idade:\n",
    "                idade_maior = idade\n",
    "                nome_maior = nome\n",
    "    else:\n",
    "        print('Sexo informado incorreto. Digite \"F\" para Feminino ou \"M\" para masculino!')\n",
    "        sleep(1)\n",
    "        break\n",
    "print(f'A media de idade das pessoas informadas é de {idade_media / pessoa :.2f} anos.')\n",
    "print(f'O Homem mais velho tem {idade_maior} anos de idade e se chama {nome_maior}.')\n",
    "print(f'Das {pessoa} pessoas informadas, {mulheres_menores} são mulheres com menos de 20 anos de idade.')"
   ],
   "outputs": [],
   "metadata": {}
  }
 ],
 "metadata": {
  "interpreter": {
   "hash": "767d51c1340bd893661ea55ea3124f6de3c7a262a8b4abca0554b478b1e2ff90"
  },
  "kernelspec": {
   "name": "python3",
   "display_name": "Python 3.9.5 64-bit"
  },
  "language_info": {
   "codemirror_mode": {
    "name": "ipython",
    "version": 3
   },
   "file_extension": ".py",
   "mimetype": "text/x-python",
   "name": "python",
   "nbconvert_exporter": "python",
   "pygments_lexer": "ipython3",
   "version": "3.9.5"
  },
  "orig_nbformat": 4
 },
 "nbformat": 4,
 "nbformat_minor": 2
}