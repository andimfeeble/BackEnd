{
 "cells": [
  {
   "cell_type": "code",
   "execution_count": null,
   "source": [
    "lanches = ('Hamburguer', 'Pizza', 'Batata Frita', 'Suco', 'Refrigerante')\n",
    "print(lanches)\n",
    "for item in lanches:\n",
    "    print(item)\n",
    "print(len(lanches))\n",
    "for cont in range(0, len(lanches)):\n",
    "    print(lanches[cont])"
   ],
   "outputs": [],
   "metadata": {}
  },
  {
   "cell_type": "code",
   "execution_count": null,
   "source": [
    "a = (4, 5, 2)\n",
    "b = (8, 4, 6, 0)\n",
    "c = a + b\n",
    "print(c)\n",
    "print(sorted(c))\n",
    "print(sorted(c)[4])"
   ],
   "outputs": [],
   "metadata": {}
  }
 ],
 "metadata": {
  "orig_nbformat": 4,
  "language_info": {
   "name": "python",
   "version": "3.9.5",
   "mimetype": "text/x-python",
   "codemirror_mode": {
    "name": "ipython",
    "version": 3
   },
   "pygments_lexer": "ipython3",
   "nbconvert_exporter": "python",
   "file_extension": ".py"
  },
  "kernelspec": {
   "name": "python3",
   "display_name": "Python 3.9.5 64-bit"
  },
  "interpreter": {
   "hash": "e7370f93d1d0cde622a1f8e1c04877d8463912d04d973331ad4851f04de6915a"
  }
 },
 "nbformat": 4,
 "nbformat_minor": 2
}