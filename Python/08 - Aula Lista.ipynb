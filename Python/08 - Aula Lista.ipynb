{
 "cells": [
  {
   "cell_type": "code",
   "execution_count": null,
   "source": [
    "lista = [0,9,1,2,7,3,3,4,5,8,6]\n",
    "print(lista)\n",
    "lista.append(10)\n",
    "print(lista)\n",
    "lista.insert(3, 8)\n",
    "print(lista)\n",
    "lista.pop(10)\n",
    "print(lista)\n",
    "lista.remove(3)\n",
    "print(lista)\n",
    "lista.sort()\n",
    "print(lista)"
   ],
   "outputs": [],
   "metadata": {}
  },
  {
   "cell_type": "code",
   "execution_count": null,
   "source": [
    "lista = [0,9,1,2,7,3,3,4,5,8,6]\n",
    "for cont, item in enumerate(lista):\n",
    "    print(f'No indice {cont}, achei o valor {item}!')\n",
    "print('Fim do bloco!')"
   ],
   "outputs": [],
   "metadata": {}
  },
  {
   "cell_type": "code",
   "execution_count": 7,
   "source": [
    "lista_composta = [['Joao', 32], ['Maria', 20], ['Pedro', 27,28]]\n",
    "for indice in lista_composta:\n",
    "    print(indice[0])\n",
    "    print(indice[1])"
   ],
   "outputs": [
    {
     "output_type": "stream",
     "name": "stdout",
     "text": [
      "Joao\n",
      "32\n",
      "Maria\n",
      "20\n",
      "Pedro\n",
      "27\n"
     ]
    }
   ],
   "metadata": {}
  }
 ],
 "metadata": {
  "orig_nbformat": 4,
  "language_info": {
   "name": "python",
   "version": "3.9.5",
   "mimetype": "text/x-python",
   "codemirror_mode": {
    "name": "ipython",
    "version": 3
   },
   "pygments_lexer": "ipython3",
   "nbconvert_exporter": "python",
   "file_extension": ".py"
  },
  "kernelspec": {
   "name": "python3",
   "display_name": "Python 3.9.5 64-bit"
  },
  "interpreter": {
   "hash": "e7370f93d1d0cde622a1f8e1c04877d8463912d04d973331ad4851f04de6915a"
  }
 },
 "nbformat": 4,
 "nbformat_minor": 2
}