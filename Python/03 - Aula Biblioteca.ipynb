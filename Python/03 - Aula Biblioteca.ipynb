{
 "cells": [
  {
   "cell_type": "code",
   "execution_count": null,
   "metadata": {},
   "outputs": [],
   "source": [
    "from math import floor, trunc\n",
    "num = float(input('Digite um numero fracionado:'))\n",
    "print(floor(num), trunc(num))"
   ]
  },
  {
   "cell_type": "code",
   "execution_count": null,
   "metadata": {},
   "outputs": [],
   "source": [
    "from math import pow, trunc\n",
    "num = float(input('Digite um numero:'))\n",
    "pot = int(input('Digite a potencia:'))\n",
    "resultado = pow(num, pot)\n",
    "print(f'A potencia de {num} elevado a {pot} é igual a {trunc(resultado)}')"
   ]
  },
  {
   "cell_type": "code",
   "execution_count": null,
   "metadata": {},
   "outputs": [],
   "source": [
    "from math import sqrt\n",
    "from numpy import cbrt\n",
    "num = int(input('Digite um numero:'))\n",
    "rq = sqrt(num)\n",
    "rc = cbrt(num)\n",
    "print(f'A raiz quadrada de {num} é igual a {rq:.2f}')\n",
    "print(f'A raiz cubica de {num} é igual a {rc:.2f}')"
   ]
  },
  {
   "cell_type": "code",
   "execution_count": null,
   "metadata": {},
   "outputs": [],
   "source": [
    "import random\n",
    "num = random.randrange(1, 10)\n",
    "print(num)"
   ]
  },
  {
   "cell_type": "code",
   "execution_count": null,
   "metadata": {},
   "outputs": [],
   "source": [
    "from random import sample as amostra\n",
    "num = amostra(range(40), k=10)\n",
    "print(num)"
   ]
  },
  {
   "cell_type": "code",
   "execution_count": null,
   "metadata": {},
   "outputs": [],
   "source": [
    "import emoji\n",
    "print(emoji.emojize('Olá mundo! :wink:', use_aliases=True))"
   ]
  },
  {
   "cell_type": "code",
   "execution_count": null,
   "metadata": {},
   "outputs": [],
   "source": [
    "from math import trunc as sem_dec\n",
    "num = float(input('Digite um numero fracionado'))\n",
    "inteiro = sem_dec(num)\n",
    "print(f'O numero {num} sem as casas decimais é igual a {inteiro}')"
   ]
  }
 ],
 "metadata": {
  "interpreter": {
   "hash": "5b3ded1ccb95c1d9bd405e7b823d9e85424cde40fbb5985eb47e999ef50e15b4"
  },
  "kernelspec": {
   "display_name": "Python 3.8.6 64-bit",
   "name": "python3"
  },
  "language_info": {
   "name": "python",
   "version": ""
  },
  "orig_nbformat": 4
 },
 "nbformat": 4,
 "nbformat_minor": 2
}