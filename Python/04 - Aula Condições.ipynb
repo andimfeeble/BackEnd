{
 "cells": [
  {
   "cell_type": "code",
   "execution_count": null,
   "metadata": {},
   "outputs": [],
   "source": [
    "#Condições Composta\n",
    "tempo = int(input('Digite o ano do veiculo:'))\n",
    "if tempo >= 2016:\n",
    "    print('Seu carro está na garantia!')\n",
    "else:\n",
    "    print('Seu carro não está na garantia!')\n",
    "print('Fim do bloco...')"
   ]
  },
  {
   "cell_type": "code",
   "execution_count": null,
   "metadata": {},
   "outputs": [],
   "source": [
    "#Condições Aninhadas\n",
    "nota1 = float(input('Digite sua primeira nota:'))\n",
    "nota2 = float(input('Digite sua segunda nota:'))\n",
    "media = (nota1 + nota2) / 2\n",
    "if media >= 6.0:\n",
    "    print(f'Parabéns, você foi aprovado com a nota: {media:.1f}')\n",
    "elif media >= 4.0 and media < 6.0:\n",
    "    print(f'Atenção, ficou de recuperação com a nota: {media:.1f}')\n",
    "else:\n",
    "    print(f'Você foi reprovado com a nota: {media:.1f}')\n"
   ]
  }
 ],
 "metadata": {
  "interpreter": {
   "hash": "e7370f93d1d0cde622a1f8e1c04877d8463912d04d973331ad4851f04de6915a"
  },
  "kernelspec": {
   "display_name": "Python 3.9.5 64-bit",
   "name": "python3"
  },
  "language_info": {
   "name": "python",
   "version": ""
  },
  "orig_nbformat": 4
 },
 "nbformat": 4,
 "nbformat_minor": 2
}