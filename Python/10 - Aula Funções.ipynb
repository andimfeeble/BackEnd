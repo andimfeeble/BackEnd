{
 "cells": [
  {
   "cell_type": "code",
   "execution_count": 1,
   "metadata": {},
   "outputs": [
    {
     "name": "stdout",
     "output_type": "stream",
     "text": [
      "Tô dentro da funcao:\n",
      "\n",
      "Numero inicial: 33\n",
      "Numero final: 34\n",
      "Tipo de variavel: <class 'int'>\n"
     ]
    }
   ],
   "source": [
    "def funcao_soma(num):\n",
    "  print('Tô dentro da funcao:\\n')\n",
    "  return num + 1\n",
    "soma = funcao_soma(33)\n",
    "print(f'Numero inicial: {soma - 1}')\n",
    "print(f'Numero final: {soma}')\n",
    "print(f'Tipo de variavel: {type(soma)}')"
   ]
  },
  {
   "cell_type": "code",
   "execution_count": 2,
   "metadata": {},
   "outputs": [
    {
     "name": "stdout",
     "output_type": "stream",
     "text": [
      "Lista Original:\n",
      "\n",
      "Vingadores\n",
      "Avatar\n",
      "Titanic\n",
      "Tarzan\n",
      "\n",
      "Lista Ordenada:\n",
      "\n",
      "Avatar\n",
      "Tarzan\n",
      "Titanic\n",
      "Vingadores\n"
     ]
    }
   ],
   "source": [
    "filmes = ['Vingadores', 'Avatar',  'Titanic' , 'Tarzan']\n",
    "def imprime_lista(filmes):\n",
    "    for filme in filmes:\n",
    "        print(filme)\n",
    "print('Lista Original:\\n')\n",
    "imprime_lista(filmes)\n",
    "print('\\nLista Ordenada:\\n')\n",
    "imprime_lista(sorted(filmes))"
   ]
  },
  {
   "cell_type": "code",
   "execution_count": null,
   "metadata": {},
   "outputs": [],
   "source": [
    "def calcula_dobro(num):\n",
    "    resultado = num * 2\n",
    "    return resultado\n",
    "\n",
    "calcula_dobro(10)"
   ]
  },
  {
   "cell_type": "code",
   "execution_count": null,
   "metadata": {},
   "outputs": [],
   "source": [
    "#Folha de Pagamento\n",
    "salario_bruto = float(input(f'Digite o valor do salário para o calculo da folha: R$'))\n",
    "if salario_bruto >= 1100:\n",
    "    #Calculo do valor do IR\n",
    "    def calculo_ir():\n",
    "        if salario_bruto <= 1903.98:\n",
    "            valor_ir = salario_bruto * 0 / 100\n",
    "        elif salario_bruto <= 2826.65:\n",
    "            valor_ir = salario_bruto * 7.5 / 100\n",
    "        elif salario_bruto <= 3751.05:\n",
    "            valor_ir = salario_bruto * 15 / 100\n",
    "        else:\n",
    "            valor_ir = salario_bruto * 27.5 / 100\n",
    "        return valor_ir\n",
    "\n",
    "\n",
    "    #Calculo do valor do INSS\n",
    "    def calculo_inss():\n",
    "        if salario_bruto <= 1100:\n",
    "            valor_inss = salario_bruto * 7.5 / 100\n",
    "        elif salario_bruto <= 2203.49:\n",
    "            valor_inss = salario_bruto * 9 / 100\n",
    "        elif salario_bruto <= 3305.22:\n",
    "            valor_inss = salario_bruto * 12 / 100\n",
    "        else:\n",
    "            valor_inss = salario_bruto * 14 / 100\n",
    "        return valor_inss\n",
    "\n",
    "\n",
    "    ir = calculo_ir()\n",
    "    inss = calculo_inss()\n",
    "    #Calculo do valor do Sindicato\n",
    "    sindicato = salario_bruto * 3 / 100\n",
    "    #Calculo do Salario Liquido\n",
    "    salario_liquido = salario_bruto - (ir + inss + sindicato)\n",
    "    \n",
    "    \n",
    "    #Impressão Demonstrativo\n",
    "    print(f'''\n",
    "-------Demonstrativo-------\n",
    "\n",
    "Salario Bruto:    R${salario_bruto:.2f}\n",
    "Desconto IR:      R${ir:.2f}\n",
    "Desconto INSS:    R${inss:.2f}\n",
    "Contrib. Sind:    R${sindicato:.2f}\n",
    "Salario Liquido:  R${salario_liquido:.2f}\n",
    "''')\n",
    "else:\n",
    "    print('O salário digitado nao pode ser menor que o salário mínimo atual!')\n"
   ]
  }
 ],
 "metadata": {
  "interpreter": {
   "hash": "767d51c1340bd893661ea55ea3124f6de3c7a262a8b4abca0554b478b1e2ff90"
  },
  "kernelspec": {
   "display_name": "Python 3.9.5 64-bit",
   "name": "python3"
  },
  "language_info": {
   "codemirror_mode": {
    "name": "ipython",
    "version": 3
   },
   "file_extension": ".py",
   "mimetype": "text/x-python",
   "name": "python",
   "nbconvert_exporter": "python",
   "pygments_lexer": "ipython3",
   "version": "3.10.6"
  },
  "orig_nbformat": 4
 },
 "nbformat": 4,
 "nbformat_minor": 2
}
