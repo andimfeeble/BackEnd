{
 "cells": [
  {
   "cell_type": "code",
   "execution_count": null,
   "metadata": {},
   "outputs": [],
   "source": [
    "#Exercicio22\n",
    "nome = str(input('Digite seu nome completo:')).strip().title()\n",
    "print(f'Seu nome escrito em Maiusculo: {nome.upper()}')\n",
    "print(f'Seu nome escrito em Minusculo: {nome.lower()}')\n",
    "print('Quantidade de letras do nome completo: {}'.format(len(nome) - nome.count(' ')))\n",
    "print('Quantidade de letras do primeiro nome: {}'.format(nome.find(' ')))"
   ]
  },
  {
   "cell_type": "code",
   "execution_count": null,
   "metadata": {},
   "outputs": [],
   "source": [
    "#Exercicio23\n",
    "numero= int(input('Digite um numero de 0 a 9999:'))\n",
    "unid = numero// 1 % 10; deze = numero// 10 % 10\n",
    "cent = numero// 100 % 10; milh = numero// 1000 % 10\n",
    "print(f'Numero Digitado: {numero}')\n",
    "print(f'Unidade: {unid}'); print(f'Dezena:  {deze}')\n",
    "print(f'Centena: {cent}'); print(f'Milhar:  {milh}')"
   ]
  },
  {
   "cell_type": "code",
   "execution_count": null,
   "metadata": {},
   "outputs": [],
   "source": [
    "cidade = str(input('Digite o nome de sua cidade:')).strip().title()\n",
    "print('Santo' in cidade[0:5])\n",
    "print(cidade[0:5] != 'Santo')"
   ]
  },
  {
   "cell_type": "code",
   "execution_count": null,
   "metadata": {},
   "outputs": [],
   "source": [
    "#Exercicio25\n",
    "nome = str(input('Digite seu nome completo:')).strip().title()\n",
    "print('Silva' in nome)"
   ]
  },
  {
   "cell_type": "code",
   "execution_count": null,
   "metadata": {},
   "outputs": [],
   "source": [
    "#exercicio26\n",
    "frase = str(input('Digite uma frase completo:')).strip().upper()\n",
    "print('O caracter \"A\" aparece {} vezes na frase'.format(frase.count('A')))\n",
    "print('O caracter \"A\" aparece a primeira vez na posição {}'.format(frase.find('A') + 1))\n",
    "print('O caracter \"A\" aparece na ultima vez na posição {}'.format(frase.rfind('A') + 1))"
   ]
  },
  {
   "cell_type": "code",
   "execution_count": null,
   "metadata": {},
   "outputs": [],
   "source": [
    "#exercicio27\n",
    "nome = str(input('Digite seu nome completo:')).strip().title().split()\n",
    "print('Nome completo: {}'.format(' '.join(nome)))\n",
    "print(f'Primeiro nome: {nome[0]}')\n",
    "print(f'Ultimo nome: {nome[-1]}')"
   ]
  }
 ],
 "metadata": {
  "interpreter": {
   "hash": "5b3ded1ccb95c1d9bd405e7b823d9e85424cde40fbb5985eb47e999ef50e15b4"
  },
  "kernelspec": {
   "display_name": "Python 3.8.6 64-bit",
   "name": "python3"
  },
  "language_info": {
   "name": "python",
   "version": ""
  },
  "orig_nbformat": 4
 },
 "nbformat": 4,
 "nbformat_minor": 2
}