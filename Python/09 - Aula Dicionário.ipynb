{
 "cells": [
  {
   "cell_type": "code",
   "execution_count": null,
   "source": [
    "dados = {'nome':'Anderson', 'idade':35}\n",
    "print(dados['nome'], dados['idade'])\n",
    "print(dados.keys())\n",
    "print(dados.values())\n",
    "print(dados.items())\n",
    "del dados['idade']\n",
    "print(dados)"
   ],
   "outputs": [],
   "metadata": {}
  },
  {
   "cell_type": "code",
   "execution_count": null,
   "source": [
    "estado = {}\n",
    "brasil = []\n",
    "for indice in range(0, 3):\n",
    "    estado['nome'] = str(input('Nome do estado: ')).strip().capitalize()\n",
    "    estado['sigla'] = str(input('Sigla do estado: ')).strip().upper()\n",
    "    brasil.append(estado.copy())\n",
    "for indice in brasil:\n",
    "    for key, val in indice.items():\n",
    "        print(key, '=', val, end=', ')\n",
    "    print()"
   ],
   "outputs": [],
   "metadata": {}
  }
 ],
 "metadata": {
  "orig_nbformat": 4,
  "language_info": {
   "name": "python",
   "version": "3.9.5",
   "mimetype": "text/x-python",
   "codemirror_mode": {
    "name": "ipython",
    "version": 3
   },
   "pygments_lexer": "ipython3",
   "nbconvert_exporter": "python",
   "file_extension": ".py"
  },
  "kernelspec": {
   "name": "python3",
   "display_name": "Python 3.9.5 64-bit"
  },
  "interpreter": {
   "hash": "e7370f93d1d0cde622a1f8e1c04877d8463912d04d973331ad4851f04de6915a"
  }
 },
 "nbformat": 4,
 "nbformat_minor": 2
}