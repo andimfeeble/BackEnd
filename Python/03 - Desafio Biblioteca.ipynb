{
 "cells": [
  {
   "cell_type": "code",
   "execution_count": null,
   "metadata": {},
   "outputs": [],
   "source": [
    "#Exercicio16\n",
    "from math import trunc\n",
    "num = float(input('Digite um numero fracionado:'))\n",
    "print(f'A porção inteira do numero {num} e a porção inteira é igual a {trunc(num)}')"
   ]
  },
  {
   "cell_type": "code",
   "execution_count": null,
   "metadata": {},
   "outputs": [],
   "source": [
    "#Exercicio17\n",
    "from math import hypot\n",
    "opo = float(input('Digite o comprimento do cateto oposto:'))\n",
    "adj = float(input('Digite o comprimento do cateto adjacente:'))\n",
    "hip = hypot(opo, adj)\n",
    "print(f'A Hipotenusa de cateto oposto {opo} e o cateto adjacente {adj} é igual a {hip:.2f}')"
   ]
  },
  {
   "cell_type": "code",
   "execution_count": null,
   "metadata": {},
   "outputs": [],
   "source": [
    "#Exercicio18\n",
    "from math import sin, cos, tan, radians\n",
    "ang = int(input('Digite o angulo para calcular:'))\n",
    "s = (sin(radians(ang))); c = (cos(radians(ang))); t = (tan(radians(ang)))\n",
    "print(f'Do angulo {ang} o seno é {s:.2f} o cosseno é {c:.2f} e a tangente é {t:.2f}')"
   ]
  },
  {
   "cell_type": "code",
   "execution_count": null,
   "metadata": {},
   "outputs": [],
   "source": [
    "#Exercicio19\n",
    "from random import choice\n",
    "lista = ['Anderson', 'Emanuelle', 'Gabrielle', 'Kelen']\n",
    "escolha = choice(lista)\n",
    "print(f'O aluno escolhido foi {escolha}')"
   ]
  },
  {
   "cell_type": "code",
   "execution_count": null,
   "metadata": {},
   "outputs": [],
   "source": [
    "#Exercicio20\n",
    "from random import shuffle\n",
    "lista = ['Anderson', 'Emanuelle', 'Gabrielle', 'Kelen']\n",
    "shuffle(lista)\n",
    "print(f'A ordem escolhida foi {lista}')"
   ]
  },
  {
   "cell_type": "code",
   "execution_count": 2,
   "metadata": {},
   "outputs": [],
   "source": [
    "#Exervivio21\n",
    "from audioplayer import AudioPlayer\n",
    "musica = AudioPlayer(\"music.mp3\")\n",
    "musica.play()\n",
    "sair = input('')\n",
    "musica.pause()\n",
    "sair = input('')\n",
    "musica.resume()\n",
    "sair = input('')\n",
    "musica.stop()\n",
    "musica.close()"
   ]
  }
 ],
 "metadata": {
  "interpreter": {
   "hash": "31f2aee4e71d21fbe5cf8b01ff0e069b9275f58929596ceb00d14d90e3e16cd6"
  },
  "kernelspec": {
   "display_name": "Python 3.9.5 64-bit",
   "name": "python3"
  },
  "language_info": {
   "codemirror_mode": {
    "name": "ipython",
    "version": 3
   },
   "file_extension": ".py",
   "mimetype": "text/x-python",
   "name": "python",
   "nbconvert_exporter": "python",
   "pygments_lexer": "ipython3",
   "version": "3.9.5"
  },
  "orig_nbformat": 4
 },
 "nbformat": 4,
 "nbformat_minor": 2
}