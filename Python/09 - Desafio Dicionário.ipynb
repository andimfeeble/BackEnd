{
 "cells": [
  {
   "cell_type": "code",
   "execution_count": null,
   "source": [
    "#Exercicio90\n",
    "aluno = {}\n",
    "turma = []\n",
    "opcao = ''\n",
    "while opcao != 'N':\n",
    "    aluno['nome'] = str(input('Digite o nome do aluno: ')).strip().capitalize()\n",
    "    aluno['media'] = float(input('Digite a media do aluno: '))\n",
    "    if aluno['media'] >= 6:\n",
    "        aluno['status'] = 'Aprovado'\n",
    "    else:\n",
    "        aluno['status'] = 'Reprovado'\n",
    "    turma.append(aluno.copy())\n",
    "    aluno.clear()\n",
    "    opcao = str(input('Deseja continuar? [S/N]: ')).strip().upper()\n",
    "for aluno in turma:\n",
    "    print(f'Nome: {aluno[\"nome\"]}', end=' -> ')\n",
    "    print(f'Média: {aluno[\"media\"]}', end=' -> ')\n",
    "    print(f'Situação: {aluno[\"status\"]}')"
   ],
   "outputs": [],
   "metadata": {}
  },
  {
   "cell_type": "code",
   "execution_count": null,
   "source": [
    "#Exercicio91\n",
    "from random import randint\n",
    "from time import sleep\n",
    "from operator import itemgetter\n",
    "jogadores = {'jogador1': randint(1, 6),\n",
    "'jogador2': randint(1, 6),\n",
    "'jogador3': randint(1, 6),\n",
    "'jogador4': randint(1, 6)\n",
    "}\n",
    "print('=' * 12)\n",
    "sleep(1)\n",
    "ranking = []\n",
    "for key, val in jogadores.items():\n",
    "    print(key, '=', val, end='')\n",
    "    print()\n",
    "    sleep(1)\n",
    "print('=' * 12)\n",
    "sleep(1)\n",
    "ranking = sorted(jogadores.items(), key=itemgetter(1), reverse=True)\n",
    "for ind, val in enumerate(ranking):\n",
    "    print(f'{val[0]} = {val[1]}', end='')\n",
    "    print()\n",
    "    sleep(1)\n",
    "print('=' * 12)"
   ],
   "outputs": [],
   "metadata": {}
  },
  {
   "cell_type": "code",
   "execution_count": null,
   "source": [
    "#Exercicio92\n",
    "from datetime import date\n",
    "dados = {'Nome': input('Nome: '), 'Idade': date.today().year - int(input('Ano de Nascimento: ')), 'CTPS': int(input('CTPS: '))}\n",
    "if dados['CTPS'] != 0:\n",
    "\tdados['Contratação'] = int(input('Ano de Contratação: '))\n",
    "\tdados['Aposentará'] = (dados['Contratação'] + 35) - (date.today().year - dados['Idade'])\n",
    "\tdados['Salário'] = int(input('Salário: '))\n",
    "for k, v in dados.items():\n",
    "\tprint(f'{k} = {v}')"
   ],
   "outputs": [],
   "metadata": {}
  },
  {
   "cell_type": "code",
   "execution_count": null,
   "source": [],
   "outputs": [],
   "metadata": {}
  }
 ],
 "metadata": {
  "orig_nbformat": 4,
  "language_info": {
   "name": "python",
   "version": "3.9.5",
   "mimetype": "text/x-python",
   "codemirror_mode": {
    "name": "ipython",
    "version": 3
   },
   "pygments_lexer": "ipython3",
   "nbconvert_exporter": "python",
   "file_extension": ".py"
  },
  "kernelspec": {
   "name": "python3",
   "display_name": "Python 3.9.5 64-bit"
  },
  "interpreter": {
   "hash": "e7370f93d1d0cde622a1f8e1c04877d8463912d04d973331ad4851f04de6915a"
  }
 },
 "nbformat": 4,
 "nbformat_minor": 2
}