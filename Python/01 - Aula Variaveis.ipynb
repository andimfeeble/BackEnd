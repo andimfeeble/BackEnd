{
 "metadata": {
  "language_info": {
   "codemirror_mode": {
    "name": "ipython",
    "version": 3
   },
   "file_extension": ".py",
   "mimetype": "text/x-python",
   "name": "python",
   "nbconvert_exporter": "python",
   "pygments_lexer": "ipython3",
   "version": "3.8.6"
  },
  "orig_nbformat": 2,
  "kernelspec": {
   "name": "python3",
   "display_name": "Python 3.8.6 64-bit"
  },
  "metadata": {
   "interpreter": {
    "hash": "916dbcbb3f70747c44a77c7bcd40155683ae19c65e1c03b4aa3499c5328201f1"
   }
  },
  "interpreter": {
   "hash": "916dbcbb3f70747c44a77c7bcd40155683ae19c65e1c03b4aa3499c5328201f1"
  }
 },
 "nbformat": 4,
 "nbformat_minor": 2,
 "cells": [
  {
   "cell_type": "code",
   "execution_count": null,
   "metadata": {},
   "outputs": [],
   "source": [
    "nome = 'Anderson Patrick'\n",
    "idade = 34\n",
    "print(f'Meu nome é {nome} e eu tenho {idade} anos de idade')"
   ]
  },
  {
   "cell_type": "code",
   "execution_count": null,
   "metadata": {},
   "outputs": [],
   "source": [
    "nome = input('Qual é o seu nome?')\n",
    "print(f'Olá, {nome}! Tudo bem contigo?')"
   ]
  },
  {
   "cell_type": "code",
   "execution_count": null,
   "metadata": {},
   "outputs": [],
   "source": [
    "modelo = input('Qual o modelo do carro?')\n",
    "cor = input('Qual a cor do carro?')\n",
    "ano = input('Qual o ano de fabricação?')\n",
    "print(f'O modelo do carro é {modelo} de cor {cor}, fabricado em {ano}.')"
   ]
  },
  {
   "cell_type": "code",
   "execution_count": null,
   "metadata": {},
   "outputs": [],
   "source": [
    "n1 = int(input('Digite o primeiro numero:'))\n",
    "n2 = int(input('Digite o segundo numero:'))\n",
    "a = n1 + n2; s = n1 - n2; m = n1 * n2\n",
    "d = n1 / n2; di = n1 // n2; rd = n1 % n2\n",
    "print(f'Resultado adição: {a}')\n",
    "print(f'Resultado subtração: {s}')\n",
    "print(f'Resultado multiplicação: {m}')\n",
    "print(f'Resultado divisão: {d:.2f}')\n",
    "print(f'Resultado divisão inteira: {di}')\n",
    "print(f'Resultado resto da divisão: {rd}')"
   ]
  }
 ]
}