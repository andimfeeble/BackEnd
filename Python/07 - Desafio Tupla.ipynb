{
 "cells": [
  {
   "cell_type": "code",
   "execution_count": null,
   "source": [
    "#Exercicio72\n",
    "numeros = ('zero', 'um', 'dois', 'tres', 'quatro', 'cinco', 'seis', 'sete', 'oito', 'nove', 'dez')\n",
    "while True:\n",
    "    num = int(input('Digite um numero de 0 a 10: '))\n",
    "    if 0 <= num <= 10:\n",
    "        print(f'O numero digitado foi: {numeros[num]}!')\n",
    "        break\n",
    "    print('Numero digitado fora do Range!')"
   ],
   "outputs": [],
   "metadata": {}
  },
  {
   "cell_type": "code",
   "execution_count": null,
   "source": [
    "#Exercicio73\n",
    "tabela = ('Atlético-MG','Palmeiras','Fortaleza','Bragantino','Flamengo',\n",
    "'Corinthians','Atlético-GO','Ceará','Athletico-PR','Internacional',\n",
    "'Santos','São Paulo','Juventude','Cuiabá','Bahia',\n",
    "'Fluminense','Grêmio','Sport','América-MG','Chapecoense')\n",
    "print('''\n",
    "---------Menu de Opções---------\n",
    "[1] - Cinco primeiros colocados\n",
    "[2] - Quatro ultimos colocados\n",
    "[3] - Tabela em ordem alfabetica\n",
    "[4] - Pesquisar colocação do time\n",
    "--------------------------------\n",
    "''')\n",
    "while True:\n",
    "    opcao = int(input('Digite a opção desejada: '))\n",
    "    if opcao == 1:\n",
    "        for time in tabela[0:4]:\n",
    "            print(time)\n",
    "        print('=' * 32, '\\n')\n",
    "    elif opcao == 2:\n",
    "        for time in tabela[-4:]:\n",
    "            print(time)\n",
    "        print('=' * 32, '\\n')\n",
    "    elif opcao == 3:\n",
    "        ordenado = tuple(sorted(tabela))\n",
    "        for time in ordenado:\n",
    "            print(time)\n",
    "        print('=' * 32, '\\n')\n",
    "    elif opcao == 4:\n",
    "        pesquisa = str(input('Qual time deseja consultar? ')).strip().capitalize()\n",
    "        print(f'O {pesquisa} está na {tabela.index(pesquisa)}º posição!')\n",
    "        print('=' * 32, '\\n')\n",
    "    else:\n",
    "        break"
   ],
   "outputs": [],
   "metadata": {}
  },
  {
   "cell_type": "code",
   "execution_count": null,
   "source": [
    "#exercicio74\n",
    "from random import randint\n",
    "aposta = (randint(1, 60), randint(1, 60), randint(1, 60), randint(1, 60), randint(1, 60), randint(1, 60))\n",
    "for numero in aposta:\n",
    "    print(numero, end=' ')\n",
    "print('\\n', end='')\n",
    "print(max(aposta))\n",
    "print(min(aposta))"
   ],
   "outputs": [],
   "metadata": {}
  },
  {
   "cell_type": "code",
   "execution_count": null,
   "source": [
    "#Exercicio75\n",
    "tupla = (int(input(f'Digite um valor: ')), int(input(f'Digite um valor: ')), int(input(f'Digite um valor: ')), int(input(f'Digite um valor: ')))\n",
    "print(f'Numeros digitados: {tupla}')\n",
    "print(f'O numero 9 apareceu {tupla.count(9)} vez(es).')\n",
    "print(f'O numero 3 apareceu na {tupla.index(3) + 1}ª posição.')\n",
    "print('Os valores pares digitados foram: ', end='')\n",
    "for valor in tupla:\n",
    "    if valor % 2 == 0:\n",
    "        print(valor, end=' ')"
   ],
   "outputs": [],
   "metadata": {}
  },
  {
   "cell_type": "code",
   "execution_count": 105,
   "source": [
    "#Exercicio76\n",
    "produtos = ('Teclado', 49.90, 'Mouse', 29.90, 'Monitor', 699.90, 'CPU', 1599.90)\n",
    "total = 0\n",
    "print('-' * 32)\n",
    "print(f'{\"Listagem de Produtos\":^32}')\n",
    "print('-' * 32)\n",
    "for item in range(0, len(produtos)):\n",
    "    if item % 2 == 0:\n",
    "        print(f'{produtos[item]:.<22}', end = '')\n",
    "    else:\n",
    "        print(f'R${produtos[item]:>8.2f}')\n",
    "        total += produtos[item]\n",
    "print('-' * 32)\n",
    "print(f'TOTAL.................R$ {total:.2f}')\n"
   ],
   "outputs": [
    {
     "output_type": "stream",
     "name": "stdout",
     "text": [
      "--------------------------------\n",
      "      Listagem de Produtos      \n",
      "--------------------------------\n",
      "Teclado...............R$   49.90\n",
      "Mouse.................R$   29.90\n",
      "Monitor...............R$  699.90\n",
      "CPU...................R$ 1599.90\n",
      "--------------------------------\n",
      "TOTAL.................R$ 2379.60\n"
     ]
    }
   ],
   "metadata": {}
  },
  {
   "cell_type": "code",
   "execution_count": 135,
   "source": [
    "#Exercicio77\n",
    "lista = ('Joao', 'Maria', 'Jose', 'Marta')\n",
    "for nome in lista:\n",
    "    print(f'No nome {nome.upper()} temos as vogais: ', end= '')\n",
    "    for letra in nome.upper():\n",
    "        if letra in 'AaEeIiOoUu':\n",
    "            print(letra, end = ' ')\n",
    "    print('')"
   ],
   "outputs": [
    {
     "output_type": "stream",
     "name": "stdout",
     "text": [
      "No nome JOAO temos as vogais: O A O \n",
      "No nome MARIA temos as vogais: A I A \n",
      "No nome JOSE temos as vogais: O E \n",
      "No nome MARTA temos as vogais: A A \n"
     ]
    }
   ],
   "metadata": {}
  }
 ],
 "metadata": {
  "orig_nbformat": 4,
  "language_info": {
   "name": "python",
   "version": "3.9.5",
   "mimetype": "text/x-python",
   "codemirror_mode": {
    "name": "ipython",
    "version": 3
   },
   "pygments_lexer": "ipython3",
   "nbconvert_exporter": "python",
   "file_extension": ".py"
  },
  "kernelspec": {
   "name": "python3",
   "display_name": "Python 3.9.5 64-bit"
  },
  "interpreter": {
   "hash": "e7370f93d1d0cde622a1f8e1c04877d8463912d04d973331ad4851f04de6915a"
  }
 },
 "nbformat": 4,
 "nbformat_minor": 2
}