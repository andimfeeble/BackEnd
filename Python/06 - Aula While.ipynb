{
 "cells": [
  {
   "cell_type": "code",
   "execution_count": null,
   "source": [
    "c = 1\n",
    "while c < 11:\n",
    "    print(c)\n",
    "    c = c + 1\n",
    "print('Fim!')"
   ],
   "outputs": [],
   "metadata": {}
  },
  {
   "cell_type": "code",
   "execution_count": null,
   "source": [
    "num = 1\n",
    "par = 0\n",
    "impar = 0\n",
    "print('Digite 0 para sair...')\n",
    "while num != 0:\n",
    "    num = int(input('Digite um número qualquer:'))\n",
    "    if num != 0:\n",
    "        if num % 2 == 0:\n",
    "            par = par + 1\n",
    "        else:\n",
    "            impar = impar + 1\n",
    "print(f'Dos {par + impar} números digitados, {par} foram PAR e {impar} foram IMPARES')\n",
    "print('Fim!')"
   ],
   "outputs": [],
   "metadata": {}
  },
  {
   "cell_type": "code",
   "execution_count": null,
   "source": [
    "num = cont = soma = 0\n",
    "while True:\n",
    "    num = int(input('Digite um numero: '))\n",
    "    if num == 999:\n",
    "        break\n",
    "    soma = soma + num\n",
    "    cont = cont + 1\n",
    "print(f'A soma dos {cont} numeros digitados é {soma}')"
   ],
   "outputs": [],
   "metadata": {}
  }
 ],
 "metadata": {
  "language_info": {
   "name": "python",
   "version": "3.9.5",
   "mimetype": "text/x-python",
   "codemirror_mode": {
    "name": "ipython",
    "version": 3
   },
   "pygments_lexer": "ipython3",
   "nbconvert_exporter": "python",
   "file_extension": ".py"
  },
  "orig_nbformat": 4,
  "kernelspec": {
   "name": "python3",
   "display_name": "Python 3.9.5 64-bit"
  },
  "interpreter": {
   "hash": "e7370f93d1d0cde622a1f8e1c04877d8463912d04d973331ad4851f04de6915a"
  }
 },
 "nbformat": 4,
 "nbformat_minor": 2
}