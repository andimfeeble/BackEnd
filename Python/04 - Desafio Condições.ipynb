{
 "cells": [
  {
   "cell_type": "code",
   "execution_count": null,
   "metadata": {},
   "outputs": [],
   "source": [
    "#exercicio28\n",
    "from random import randint\n",
    "from time import sleep\n",
    "comp = randint(0 , 5)\n",
    "user = int(input('Em que numero estou pensando de 0 a 5?'))\n",
    "print('Processando...')\n",
    "sleep(2)\n",
    "if comp == user:\n",
    "    print(f'Parabéns, você acertou, pensei no número {comp}!')\n",
    "else:\n",
    "    print(f'Que pena, você errou, pensei no numero {comp}!')"
   ]
  },
  {
   "cell_type": "code",
   "execution_count": null,
   "metadata": {},
   "outputs": [],
   "source": [
    "#Exercicio29\n",
    "velo = int(input('Digite a velocidade do carro:'))  \n",
    "if velo <=80:\n",
    "    print('Velocidade permitida!')\n",
    "else:\n",
    "    multa = (velo - 80) * 7\n",
    "    print(f'Você foi multado em R${multa:.2f}')"
   ]
  },
  {
   "cell_type": "code",
   "execution_count": null,
   "metadata": {},
   "outputs": [],
   "source": [
    "#Exercicio30\n",
    "num = int(input('Digite um numero:'))\n",
    "if num % 2 == 0:\n",
    "    print('O numero que você digitou é par!')\n",
    "else:\n",
    "    print('O numero que você digitou é impar!')"
   ]
  },
  {
   "cell_type": "code",
   "execution_count": null,
   "metadata": {},
   "outputs": [],
   "source": [
    "#Exercicio31\n",
    "km = int(input('Qual a distância da viagem?'))\n",
    "if km <= 200:\n",
    "    print('Valor da viagem: R${:.2f}'.format(km * 0.50))\n",
    "else:\n",
    "    print('Valor da viagem: R${:.2f}'.format(km * 0.45))"
   ]
  },
  {
   "cell_type": "code",
   "execution_count": null,
   "metadata": {},
   "outputs": [],
   "source": [
    "#Exercicio32\n",
    "from datetime import date\n",
    "ano = int(input('Digite um ano qualquer:'))\n",
    "if ano == 0:\n",
    "    ano = date.today().year\n",
    "if ano % 4 == 0 and ano % 100 !=0 or ano % 400 == 0:\n",
    "    print(f'{ano} é um ano bissexto!')\n",
    "else:\n",
    "    print(f'{ano} não é um ano bissexto')"
   ]
  },
  {
   "cell_type": "code",
   "execution_count": null,
   "metadata": {},
   "outputs": [],
   "source": [
    "#Exercicio33\n",
    "num1 = int(input('Digite o primeiro numero:'))\n",
    "num2 = int(input('Digite o segundo numero:'))\n",
    "num3 = int(input('Digite o terceiro numero:'))\n",
    "#----------------MENOR---------------#\n",
    "menor = num1\n",
    "if num2 < num1 and num2 < num3:\n",
    "    menor = num2\n",
    "if num3 < num1 and num3 < num2:\n",
    "    menor = num3\n",
    "#----------------MAIOR---------------#\n",
    "maior = num1\n",
    "if num2 > num1 and num2 > num3:\n",
    "    maior = num2\n",
    "if num3 > num1 and num3 > num2:\n",
    "    maior = num3\n",
    "#------------------------------------#\n",
    "print(f'O menor numero digitado foi o {menor}!')\n",
    "print(f'O maior numero digitado foi o {maior}!')"
   ]
  },
  {
   "cell_type": "code",
   "execution_count": null,
   "metadata": {},
   "outputs": [],
   "source": [
    "#Exercicio34\n",
    "salario = float(input('Digite o salario atual:'))\n",
    "if salario <= 1250:\n",
    "    salario = salario + (salario * 15 / 100)\n",
    "    print(f'Seu novo salário é R${salario:.2f}')\n",
    "else:\n",
    "    salario = salario + (salario * 10 / 100)\n",
    "    print(f'Seu novo salário é: R${salario:.2f}')"
   ]
  },
  {
   "cell_type": "code",
   "execution_count": null,
   "metadata": {},
   "outputs": [],
   "source": [
    "#Exercicio35\n",
    "reta1 = int(input('Digite a medida da primeira reta:'))\n",
    "reta2 = int(input('Digite a medida da segunda reta:'))\n",
    "reta3 = int(input('Digite a medida da terceira reta:'))\n",
    "if reta1 < reta2 + reta3 and reta2 < reta1 + reta3 and reta3 < reta1 + reta2:\n",
    "    print('Estas retas formam um triangulo!')\n",
    "else:\n",
    "    print('Estas retas não formam um triangulo')"
   ]
  },
  {
   "cell_type": "code",
   "execution_count": null,
   "metadata": {},
   "outputs": [],
   "source": [
    "#Exercicio36\n",
    "total= float(input('Digite  o valor total da casa:'))\n",
    "salario = float(input('Digite o valor de sua renda mensal:'))\n",
    "parcelas = int(input('Digite em quantos anos deseja financiar a casa:')) * 12\n",
    "prestacao = total / parcelas\n",
    "if prestacao <= (salario - (salario * 70 / 100)):\n",
    "    print(f'Seu financiamento foi aprovado, serão {parcelas} parcelas de R${prestacao:.2f}')\n",
    "else:\n",
    "    print('Seu financiamento não foi aprovado! Divida em mais vezes...')"
   ]
  },
  {
   "cell_type": "code",
   "execution_count": null,
   "metadata": {},
   "outputs": [],
   "source": [
    "#Exercicio37 #ConversãoNumerica\n",
    "num = int(input('Digite o numero a ser convertido:'))\n",
    "print('''Escolha uma base para conversão:\n",
    "[1] para Binário\n",
    "[2] para Octal\n",
    "[3] para Hexadecimal''')\n",
    "opcao = int(input('Digite uma opção:'))\n",
    "if opcao == 1:\n",
    "    print('O numero {} convertido em Binário é: {}'.format(num, bin(num)[2:]))\n",
    "elif opcao == 2:\n",
    "    print('O numero {} convertido em Octal é: {}'.format(num, oct(num)[2:]))\n",
    "elif opcao == 3:\n",
    "    print('O numero {} convertido em Hexadecimal é: {}'.format(num, hex(num)[2:]))\n",
    "else:\n",
    "    print('Opção digitada incorreta')"
   ]
  },
  {
   "cell_type": "code",
   "execution_count": null,
   "metadata": {},
   "outputs": [],
   "source": [
    "#Exercicio38\n",
    "num1 = int(input('Digite o primeiro numero:'))\n",
    "num2 = int(input('Digite o segundo numero:'))\n",
    "if num1 > num2:\n",
    "    print('O primeiro numero digitado foi maior!')\n",
    "elif num2 > num1:\n",
    "    print('O segundo numero digitado foi maior!')\n",
    "else:\n",
    "    print('Os dois numeros digitados são identicos!')"
   ]
  },
  {
   "cell_type": "code",
   "execution_count": null,
   "metadata": {},
   "outputs": [],
   "source": [
    "#Exercicio39 #AlistamentoMilitar\n",
    "from datetime import date\n",
    "ano_nasce = int(input('Digite seu ano de nascimento:'))\n",
    "ano_atual = date.today().year\n",
    "idade = ano_atual - ano_nasce\n",
    "if idade < 18:\n",
    "    diferenca = 18 - idade\n",
    "    print(f'Ainda falta {diferenca} anos para você se alistar!')\n",
    "elif idade == 18:\n",
    "    print('Você deve se alistar imediatamente!')\n",
    "else:\n",
    "    diferenca = idade - 18\n",
    "    print(f'Você deveria ter se alistado a {diferenca} anos')"
   ]
  },
  {
   "cell_type": "code",
   "execution_count": null,
   "metadata": {},
   "outputs": [],
   "source": [
    "#Exercicio40\n",
    "nota1 = float(input('Digite sua primeira nota:'))\n",
    "nota2 = float(input('Digite sua segunda nota:'))\n",
    "media = (nota1 + nota2) / 2\n",
    "if media < 5.0:\n",
    "    print(f'Você foi reprovado com a nota: {media:.1f}')\n",
    "elif media < 7.0:\n",
    "    print(f'Atenção, ficou de recuperação com a nota: {media:.1f}')\n",
    "else:\n",
    "    print(f'Parabéns, você foi aprovado com a nota: {media:.1f}')"
   ]
  },
  {
   "cell_type": "code",
   "execution_count": null,
   "metadata": {},
   "outputs": [],
   "source": [
    "#Exercicio41\n",
    "from datetime import date\n",
    "ano_nasce = int(input('Qual o seu ano de nascimento?'))\n",
    "ano_atual = date.today().year\n",
    "idade = ano_atual - ano_nasce\n",
    "if idade <= 9:\n",
    "    print(f'Com {idade} anos, você competirá na categoria Mirim!')\n",
    "elif idade <= 14:\n",
    "    print(f'Com {idade} anos, você competirá na categoria Infantil!')\n",
    "elif idade <= 19:\n",
    "    print(f'Com {idade} anos, você competirá na categoria Júnior!')\n",
    "elif idade <= 25:\n",
    "    print(f'Com {idade} anos, você competirá na categoria Sênior!')\n",
    "else:\n",
    "    print(f'Com {idade} anos, você competirá na categoria Master!')"
   ]
  },
  {
   "cell_type": "code",
   "execution_count": null,
   "metadata": {},
   "outputs": [],
   "source": [
    "#Exercicio42\n",
    "reta1 = int(input('Digite a medida da primeira reta:'))\n",
    "reta2 = int(input('Digite a medida da segunda reta:'))\n",
    "reta3 = int(input('Digite a medida da terceira reta:'))\n",
    "if reta1 < reta2 + reta3 and reta2 < reta1 + reta3 and reta3 < reta1 + reta2:\n",
    "    print('Estas retas formam um triangulo: ', end='')\n",
    "    if reta1 == reta2 == reta3:\n",
    "        print('Equilátero!')\n",
    "    elif reta1 != reta2 != reta3 != reta1:\n",
    "        print('Escaleno!')\n",
    "    else:\n",
    "        print('Isósceles')\n",
    "else:\n",
    "    print('Estas retas não formam um triangulo')"
   ]
  },
  {
   "cell_type": "code",
   "execution_count": null,
   "metadata": {},
   "outputs": [],
   "source": [
    "#Exercicio43\n",
    "peso = float(input('Qual o seu peso?'))\n",
    "altura = float(input('Qual a sua altura?'))\n",
    "imc = peso / (altura ** 2)\n",
    "if imc < 18.5:\n",
    "    print(f'Você está abaixo do peso! Seu IMC é {imc:.1f}')\n",
    "elif imc <= 25:\n",
    "    print(f'Parabéns, seu peso esta normal! Seu IMC é {imc:.1f}')\n",
    "elif imc <= 30:\n",
    "    print(f'Você está com sobrepeso! Seu IMC é {imc:.1f}')\n",
    "elif imc <= 40:\n",
    "    print(f'Você está com obesidade! Seu IMC é {imc:.1f}')\n",
    "else:\n",
    "    print(f'Atenção, você está com obesidade morbida! Seu IMC é {imc:.1f}')"
   ]
  },
  {
   "cell_type": "code",
   "execution_count": null,
   "metadata": {},
   "outputs": [],
   "source": [
    "#Exercicio44\n",
    "valor_produto = float(input('Digite o valor do produto:'))\n",
    "print(f'''Escolha a forma de pagamento:\n",
    "[1] A vista no dinheiro com 10% de desconto\n",
    "[2] A vista no debito com 5% de desconto\n",
    "[3] A vista no crédito sem desconto\n",
    "[4] A prazo no crédito com 10% de juros''')\n",
    "pagamento = int(input('Digite uma das opções:'))\n",
    "if pagamento == 1:\n",
    "    valor_produto = valor_produto - (valor_produto * 10 / 100)\n",
    "    print(f'Valor total com 10% de desconto: R$ {valor_produto:.2f}')\n",
    "elif pagamento == 2:\n",
    "    valor_produto = valor_produto - (valor_produto * 5 / 100)\n",
    "    print(f'Valor total com 5% de desconto: R$ {valor_produto:.2f}')\n",
    "elif pagamento == 3:\n",
    "    print(f'Valor total sem desconto: R$ {valor_produto:.2f}')\n",
    "elif pagamento == 4:\n",
    "    quant_parcela = int(input('Digite a quantidade de parcelas:'))\n",
    "    if quant_parcela < 2:\n",
    "        print('É obrigatorio digitar no minimo de 2 parcelas')\n",
    "    else:\n",
    "        valor_parcela = valor_produto / quant_parcela\n",
    "        parcela_juros = valor_parcela + (valor_parcela * 10 / 100)\n",
    "        valor_produto = parcela_juros * quant_parcela\n",
    "        print(f'Valor total com Juros: R$ {valor_produto:.2f}')\n",
    "        print(f'Sua compra será parcelada em {quant_parcela} x de R$ {parcela_juros:.2f}')\n",
    "else:\n",
    "    print('Opção incorreta!')\n"
   ]
  },
  {
   "cell_type": "code",
   "execution_count": null,
   "metadata": {},
   "outputs": [],
   "source": [
    "#Exercicio45\n",
    "from random import randint\n",
    "from time import sleep\n",
    "itens = ('Pedra', 'Papel', 'Tesoura')\n",
    "comp = randint(0, 2)\n",
    "print('========== Pedra, Papel e Tesoura ==========')\n",
    "print('')\n",
    "print('O Boot esta escolhendo uma opção...')\n",
    "sleep(3)\n",
    "print('')\n",
    "print('''Chegou a sua vez, escolha uma opção abaixo:\n",
    "[0] Pedra\n",
    "[1] Papel\n",
    "[2] Tesoura''')\n",
    "print('')\n",
    "user = int(input('Digite aqui sua opção:'))\n",
    "print('')\n",
    "if comp == 0:\n",
    "    if user == 0:\n",
    "        print('O jogo terminou empatado, nos dois escolhemos: {}!'.format(itens[comp]))\n",
    "    elif user == 1:\n",
    "        print('Você ganhou Noob, eu escolhi {} enquanto você escolheu {}!'.format(itens[comp], itens[user]))\n",
    "    elif user == 2:\n",
    "        print('Você perdeu Noob, eu escolhi {} enquanto você escolheu {}!'.format(itens[comp], itens[user]))\n",
    "    else:\n",
    "        print('Jogada Inválida!!!')\n",
    "elif comp == 1:\n",
    "    if user == 1:\n",
    "        print('O jogo terminou empatado, nos dois escolhemos: {}!'.format(itens[comp]))\n",
    "    elif user == 2:\n",
    "        print('Você ganhou Noob, eu escolhi {} enquanto você escolheu {}!'.format(itens[comp], itens[user]))\n",
    "    elif user == 0:\n",
    "        print('Você perdeu Noob, eu escolhi {} enquanto você escolheu {}!'.format(itens[comp], itens[user]))\n",
    "    else:\n",
    "        print('Jogada Inválida!!!')\n",
    "elif comp == 2:\n",
    "    if user == 2:\n",
    "        print('O jogo terminou empatado, nos dois escolhemos: {}!'.format(itens[comp]))\n",
    "    elif user == 0:\n",
    "        print('Você ganhou Noob, eu escolhi {} enquanto você escolheu {}!'.format(itens[comp], itens[user]))\n",
    "    elif user == 1:\n",
    "        print('Você perdeu Noob, eu escolhi {} enquanto você escolheu {}!'.format(itens[comp], itens[user]))\n",
    "    else:\n",
    "        print('Jogada Inválida!!!')\n",
    "\n"
   ]
  }
 ],
 "metadata": {
  "interpreter": {
   "hash": "767d51c1340bd893661ea55ea3124f6de3c7a262a8b4abca0554b478b1e2ff90"
  },
  "kernelspec": {
   "display_name": "Python 3.9.5 64-bit ('usr')",
   "name": "python3"
  },
  "language_info": {
   "name": "python",
   "version": ""
  },
  "orig_nbformat": 4
 },
 "nbformat": 4,
 "nbformat_minor": 2
}