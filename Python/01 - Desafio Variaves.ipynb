{
 "metadata": {
  "language_info": {
   "codemirror_mode": {
    "name": "ipython",
    "version": 3
   },
   "file_extension": ".py",
   "mimetype": "text/x-python",
   "name": "python",
   "nbconvert_exporter": "python",
   "pygments_lexer": "ipython3",
   "version": "3.8.6"
  },
  "orig_nbformat": 2,
  "kernelspec": {
   "name": "python3",
   "display_name": "Python 3.8.6 64-bit"
  },
  "interpreter": {
   "hash": "916dbcbb3f70747c44a77c7bcd40155683ae19c65e1c03b4aa3499c5328201f1"
  }
 },
 "nbformat": 4,
 "nbformat_minor": 2,
 "cells": [
  {
   "cell_type": "code",
   "execution_count": null,
   "source": [
    "#Exercicio1\n",
    "print('Olá, mundo!')"
   ],
   "outputs": [],
   "metadata": {}
  },
  {
   "cell_type": "code",
   "execution_count": null,
   "source": [
    "#Exercicio2\n",
    "nome = input('Qual é o seu nome?')\n",
    "idade = int(input('Qual é a sua idade?'))\n",
    "print(f'Meu nome é {nome} e eu tenho {idade} anos!')"
   ],
   "outputs": [],
   "metadata": {}
  },
  {
   "cell_type": "code",
   "execution_count": null,
   "source": [
    "#Exercicio3\n",
    "num1 = int(input('Digite o primeiro numero:'))\n",
    "num2 = int(input('Digite o segundo numero:'))\n",
    "soma = num1 + num2\n",
    "print(f'A soma entre {num1} e {num2} é igual a {soma}!')"
   ],
   "outputs": [],
   "metadata": {}
  },
  {
   "cell_type": "code",
   "execution_count": null,
   "source": [
    "#Exercicio4\n",
    "var1 = input('Digite algo:')\n",
    "print(f'Esta variavel é do tipo: {type(var1)}')\n",
    "print(f'Esta variavel é numerica? {var1.isnumeric()}')\n",
    "print(f'Esta variavel é alfabetica? {var1.isalpha()}')\n",
    "print(f'Esta variavel é alfanumerica? {var1.isalnum()}')\n",
    "print(f'Esta variavel está maiuscula? {var1.isupper()}')\n",
    "print(f'Esta variavel está minuscula? {var1.islower()}')\n",
    "print(f'Esta variavel está capitalizada? {var1.istitle()}')"
   ],
   "outputs": [],
   "metadata": {}
  },
  {
   "cell_type": "code",
   "execution_count": null,
   "source": [
    "#Exercicio5\n",
    "num = int(input('Digite um numero:'))\n",
    "ant = num - 1; suc = num + 1\n",
    "print(f'O numero digitado foi {num}, o seu antecessor é {ant}, o seu sucessor é {suc}.')"
   ],
   "outputs": [],
   "metadata": {}
  },
  {
   "cell_type": "code",
   "execution_count": 2,
   "source": [
    "#Exercicio6\n",
    "num = int(input('Digeite um numero:'))\n",
    "dob = num * 2\n",
    "tri = num * 3\n",
    "raiz = num ** (1/2)\n",
    "print(f'Numero dititado: {num}, seu dobro: {dob}, seu triplo: {tri}, raiz quadrada: {raiz:.2f}.')"
   ],
   "outputs": [
    {
     "output_type": "stream",
     "name": "stdout",
     "text": [
      "Numero dititado: 36, seu dobro: 72, seu triplo: 108, raiz quadrada: 6.00.\n"
     ]
    }
   ],
   "metadata": {}
  },
  {
   "cell_type": "code",
   "execution_count": null,
   "source": [
    "#Exercicio7\n",
    "nota1 = float(input('Digite a primeira nota:'))\n",
    "nota2 = float(input('Digite a segunda nota:'))\n",
    "media = (nota1 + nota2) / 2\n",
    "print(f'A media entre a nota {nota1:.1f} e {nota2:.1f} é igual a {media:.1f}.')"
   ],
   "outputs": [],
   "metadata": {}
  },
  {
   "cell_type": "code",
   "execution_count": null,
   "source": [
    "#Exercicio8\n",
    "metros = float(input('Digite a metragem a ser convertida:'))\n",
    "centim = metros * 100\n",
    "milim = metros * 1000\n",
    "print(f'Metros: {metros}, centimetros: {centim:.0f}, milimetros: {milim:.0f}.')"
   ],
   "outputs": [],
   "metadata": {}
  },
  {
   "cell_type": "code",
   "execution_count": null,
   "source": [
    "#Exercicio9\n",
    "num = int(input(f'Digite o numero a ser multiplicado'))\n",
    "n1 = num * 1; n2 = num * 2; n3 = num * 3; n4 = num * 4; n5 = num * 5\n",
    "n6 = num * 6; n7 = num * 7; n8 = num * 8; n9 = num * 9; n10 = num * 10\n",
    "print(f'Tabuada de {num}:')\n",
    "print(f'{num} x 1 = {n1}')\n",
    "print(f'{num} x 2 = {n2}')\n",
    "print(f'{num} x 3 = {n3}')\n",
    "print(f'{num} x 4 = {n4}')\n",
    "print(f'{num} x 5 = {n5}')\n",
    "print(f'{num} x 6 = {n6}')\n",
    "print(f'{num} x 7 = {n7}')\n",
    "print(f'{num} x 8 = {n8}')\n",
    "print(f'{num} x 9 = {n9}')\n",
    "print(f'{num} x 10 = {n10}')"
   ],
   "outputs": [],
   "metadata": {}
  },
  {
   "cell_type": "code",
   "execution_count": null,
   "source": [
    "#Exercicio10\n",
    "real = float(input('Digite o valor para converter em Dólar'))\n",
    "dollar = real / 5.01\n",
    "print(f'Valor em Reais R${real:.2f}, Valor em Dólar U${dollar:.2f}')"
   ],
   "outputs": [],
   "metadata": {}
  },
  {
   "cell_type": "code",
   "execution_count": null,
   "source": [
    "#Exercicio11\n",
    "larg = float(input('Qual a largura da parede?'))\n",
    "altu = float(input('Qual a altura da parede'))\n",
    "area = larg * altu\n",
    "tinta = area / 2\n",
    "print(f'Quantidade de metros da area a ser pintada: {area:.2f}')\n",
    "print(f'Quantidade de litros de tinta que será utilizada: {tinta:.2f}')"
   ],
   "outputs": [],
   "metadata": {}
  },
  {
   "cell_type": "code",
   "execution_count": null,
   "source": [
    "#exercicio12\n",
    "vista = float(input('Digite o valor atual do produto:'))\n",
    "prazo = vista - (vista * 5 / 100)\n",
    "print(f'Valor do produto à prazo R${vista:.2f}')\n",
    "print(f'Valor do produto à vista R${prazo:.2f}')"
   ],
   "outputs": [],
   "metadata": {}
  },
  {
   "cell_type": "code",
   "execution_count": null,
   "source": [
    "#Exercicio13\n",
    "sal_atual = float(input('Digite o salário atual:'))\n",
    "sal_novo = sal_atual + (sal_atual * 15 / 100)\n",
    "print(f'Valor do salario atual R${sal_atual:.2f}')\n",
    "print(f'Valor do salario novo  R${sal_novo:.2f}')"
   ],
   "outputs": [],
   "metadata": {}
  },
  {
   "cell_type": "code",
   "execution_count": null,
   "source": [
    "#Exercicio14\n",
    "celsius = float(input('Digite a temperatura em ºC:'))\n",
    "fahrenheit = (celsius * 9 / 5) + 32\n",
    "print(f'A temperatura em {celsius:.2f}º Celsius equivale a {fahrenheit:.2f}º Fahrenheit')"
   ],
   "outputs": [],
   "metadata": {}
  },
  {
   "cell_type": "code",
   "execution_count": null,
   "source": [
    "#Exercicio15\n",
    "dias = int(input('Quantos dias o carro foi alugado?'))\n",
    "km = float(input('Quantos kilometros o carro rodou'))\n",
    "vd = dias * 60; vk = km * 0.15; vt = vd + vk\n",
    "print(f'Valor total a ser pago R${vt:.2f}')"
   ],
   "outputs": [],
   "metadata": {}
  }
 ]
}